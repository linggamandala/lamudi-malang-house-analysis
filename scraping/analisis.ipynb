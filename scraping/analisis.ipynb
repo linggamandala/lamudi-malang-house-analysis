{
 "cells": [
  {
   "cell_type": "markdown",
   "metadata": {},
   "source": [
    "# Import Libraries "
   ]
  },
  {
   "cell_type": "code",
   "execution_count": 2,
   "metadata": {},
   "outputs": [],
   "source": [
    "import numpy as np\n",
    "import pandas as pd\n",
    "import matplotlib.pyplot as plt\n",
    "import seaborn as sns\n",
    "import re"
   ]
  },
  {
   "cell_type": "markdown",
   "metadata": {},
   "source": [
    "# Load Dataset"
   ]
  },
  {
   "cell_type": "code",
   "execution_count": 88,
   "metadata": {},
   "outputs": [
    {
     "data": {
      "text/html": [
       "<div>\n",
       "<style scoped>\n",
       "    .dataframe tbody tr th:only-of-type {\n",
       "        vertical-align: middle;\n",
       "    }\n",
       "\n",
       "    .dataframe tbody tr th {\n",
       "        vertical-align: top;\n",
       "    }\n",
       "\n",
       "    .dataframe thead th {\n",
       "        text-align: right;\n",
       "    }\n",
       "</style>\n",
       "<table border=\"1\" class=\"dataframe\">\n",
       "  <thead>\n",
       "    <tr style=\"text-align: right;\">\n",
       "      <th></th>\n",
       "      <th>title</th>\n",
       "      <th>location</th>\n",
       "      <th>detail</th>\n",
       "      <th>price</th>\n",
       "      <th>agent_name</th>\n",
       "      <th>agent_status</th>\n",
       "      <th>description</th>\n",
       "    </tr>\n",
       "  </thead>\n",
       "  <tbody>\n",
       "    <tr>\n",
       "      <th>0</th>\n",
       "      <td>Rumah mewah termurah dekat kampus brawijaya</td>\n",
       "      <td>Dinoyo, Malang</td>\n",
       "      <td>3                                Kamar tidur  ...</td>\n",
       "      <td>Rp662.000.000</td>\n",
       "      <td>Endang AJ Property</td>\n",
       "      <td>Rekan Lamudi Pro</td>\n",
       "      <td>MODERN RUMAH READY UNIT 2 LANTAI mulai 600juta...</td>\n",
       "    </tr>\n",
       "    <tr>\n",
       "      <th>1</th>\n",
       "      <td>Di jual Rumah Kost Exclusive Kota Malang Suhat</td>\n",
       "      <td>Tulusrejo, Malang</td>\n",
       "      <td>10                                Kamar tidur ...</td>\n",
       "      <td>Rp2.500.000.000</td>\n",
       "      <td>Arif Faisol Halim</td>\n",
       "      <td>Rekan Lamudi</td>\n",
       "      <td>Di Jual Rumah kost Exclusive SHM Redy Redy 2 U...</td>\n",
       "    </tr>\n",
       "    <tr>\n",
       "      <th>2</th>\n",
       "      <td>di jual rumah kost Exclusive kota malang Suhat...</td>\n",
       "      <td>Lowokwaru, Malang</td>\n",
       "      <td>10                                Kamar tidur ...</td>\n",
       "      <td>Rp2.900.000.000</td>\n",
       "      <td>Arif Faisol Halim</td>\n",
       "      <td>Rekan Lamudi</td>\n",
       "      <td>Di Jual Rumah kost Exclusive SHM Sisa 1 unit S...</td>\n",
       "    </tr>\n",
       "    <tr>\n",
       "      <th>3</th>\n",
       "      <td>Dijual Murah Rumah Aesthetic di Lowokwaru Deka...</td>\n",
       "      <td>Lowokwaru, Malang</td>\n",
       "      <td>2                                Kamar tidur  ...</td>\n",
       "      <td>Rp589.000.000</td>\n",
       "      <td>Muhammad Sudono</td>\n",
       "      <td>Agent</td>\n",
       "      <td>Akses mobil bisa simpangan .Bisa KPR .Row jala...</td>\n",
       "    </tr>\n",
       "    <tr>\n",
       "      <th>4</th>\n",
       "      <td>Dijual Rumah Butuh uang segera  luas 231m di p...</td>\n",
       "      <td>Blimbing, Malang</td>\n",
       "      <td>3                                Kamar tidur  ...</td>\n",
       "      <td>Rp650.000.000</td>\n",
       "      <td>Fran Jual Rumah Malang</td>\n",
       "      <td>Rekan Lamudi Pro</td>\n",
       "      <td>Dijual Rumah luas 231m butuh uang segera lokas...</td>\n",
       "    </tr>\n",
       "  </tbody>\n",
       "</table>\n",
       "</div>"
      ],
      "text/plain": [
       "                                               title           location  \\\n",
       "0        Rumah mewah termurah dekat kampus brawijaya     Dinoyo, Malang   \n",
       "1     Di jual Rumah Kost Exclusive Kota Malang Suhat  Tulusrejo, Malang   \n",
       "2  di jual rumah kost Exclusive kota malang Suhat...  Lowokwaru, Malang   \n",
       "3  Dijual Murah Rumah Aesthetic di Lowokwaru Deka...  Lowokwaru, Malang   \n",
       "4  Dijual Rumah Butuh uang segera  luas 231m di p...   Blimbing, Malang   \n",
       "\n",
       "                                              detail            price  \\\n",
       "0  3                                Kamar tidur  ...    Rp662.000.000   \n",
       "1  10                                Kamar tidur ...  Rp2.500.000.000   \n",
       "2  10                                Kamar tidur ...  Rp2.900.000.000   \n",
       "3  2                                Kamar tidur  ...    Rp589.000.000   \n",
       "4  3                                Kamar tidur  ...    Rp650.000.000   \n",
       "\n",
       "               agent_name      agent_status  \\\n",
       "0      Endang AJ Property  Rekan Lamudi Pro   \n",
       "1       Arif Faisol Halim      Rekan Lamudi   \n",
       "2       Arif Faisol Halim      Rekan Lamudi   \n",
       "3         Muhammad Sudono             Agent   \n",
       "4  Fran Jual Rumah Malang  Rekan Lamudi Pro   \n",
       "\n",
       "                                         description  \n",
       "0  MODERN RUMAH READY UNIT 2 LANTAI mulai 600juta...  \n",
       "1  Di Jual Rumah kost Exclusive SHM Redy Redy 2 U...  \n",
       "2  Di Jual Rumah kost Exclusive SHM Sisa 1 unit S...  \n",
       "3  Akses mobil bisa simpangan .Bisa KPR .Row jala...  \n",
       "4  Dijual Rumah luas 231m butuh uang segera lokas...  "
      ]
     },
     "execution_count": 88,
     "metadata": {},
     "output_type": "execute_result"
    }
   ],
   "source": [
    "df = pd.read_csv('lamudi_malang_house.csv', encoding='ISO-8859-1')\n",
    "df.head()"
   ]
  },
  {
   "cell_type": "code",
   "execution_count": 89,
   "metadata": {},
   "outputs": [
    {
     "name": "stdout",
     "output_type": "stream",
     "text": [
      "<class 'pandas.core.frame.DataFrame'>\n",
      "RangeIndex: 2958 entries, 0 to 2957\n",
      "Data columns (total 7 columns):\n",
      " #   Column        Non-Null Count  Dtype \n",
      "---  ------        --------------  ----- \n",
      " 0   title         2958 non-null   object\n",
      " 1   location      2958 non-null   object\n",
      " 2   detail        2958 non-null   object\n",
      " 3   price         2958 non-null   object\n",
      " 4   agent_name    2958 non-null   object\n",
      " 5   agent_status  2958 non-null   object\n",
      " 6   description   2958 non-null   object\n",
      "dtypes: object(7)\n",
      "memory usage: 161.9+ KB\n"
     ]
    }
   ],
   "source": [
    "df.info()"
   ]
  },
  {
   "cell_type": "markdown",
   "metadata": {},
   "source": [
    "# Cleaning Data   "
   ]
  },
  {
   "cell_type": "markdown",
   "metadata": {},
   "source": [
    "### Memecah location menjadi Kabupaten dan Kota"
   ]
  },
  {
   "cell_type": "code",
   "execution_count": 90,
   "metadata": {},
   "outputs": [
    {
     "data": {
      "text/html": [
       "<div>\n",
       "<style scoped>\n",
       "    .dataframe tbody tr th:only-of-type {\n",
       "        vertical-align: middle;\n",
       "    }\n",
       "\n",
       "    .dataframe tbody tr th {\n",
       "        vertical-align: top;\n",
       "    }\n",
       "\n",
       "    .dataframe thead th {\n",
       "        text-align: right;\n",
       "    }\n",
       "</style>\n",
       "<table border=\"1\" class=\"dataframe\">\n",
       "  <thead>\n",
       "    <tr style=\"text-align: right;\">\n",
       "      <th></th>\n",
       "      <th>title</th>\n",
       "      <th>detail</th>\n",
       "      <th>price</th>\n",
       "      <th>agent_name</th>\n",
       "      <th>agent_status</th>\n",
       "      <th>description</th>\n",
       "      <th>kabupaten</th>\n",
       "      <th>kota</th>\n",
       "    </tr>\n",
       "  </thead>\n",
       "  <tbody>\n",
       "    <tr>\n",
       "      <th>0</th>\n",
       "      <td>Rumah mewah termurah dekat kampus brawijaya</td>\n",
       "      <td>3                                Kamar tidur  ...</td>\n",
       "      <td>Rp662.000.000</td>\n",
       "      <td>Endang AJ Property</td>\n",
       "      <td>Rekan Lamudi Pro</td>\n",
       "      <td>MODERN RUMAH READY UNIT 2 LANTAI mulai 600juta...</td>\n",
       "      <td>Dinoyo</td>\n",
       "      <td>Malang</td>\n",
       "    </tr>\n",
       "    <tr>\n",
       "      <th>1</th>\n",
       "      <td>Di jual Rumah Kost Exclusive Kota Malang Suhat</td>\n",
       "      <td>10                                Kamar tidur ...</td>\n",
       "      <td>Rp2.500.000.000</td>\n",
       "      <td>Arif Faisol Halim</td>\n",
       "      <td>Rekan Lamudi</td>\n",
       "      <td>Di Jual Rumah kost Exclusive SHM Redy Redy 2 U...</td>\n",
       "      <td>Tulusrejo</td>\n",
       "      <td>Malang</td>\n",
       "    </tr>\n",
       "    <tr>\n",
       "      <th>2</th>\n",
       "      <td>di jual rumah kost Exclusive kota malang Suhat...</td>\n",
       "      <td>10                                Kamar tidur ...</td>\n",
       "      <td>Rp2.900.000.000</td>\n",
       "      <td>Arif Faisol Halim</td>\n",
       "      <td>Rekan Lamudi</td>\n",
       "      <td>Di Jual Rumah kost Exclusive SHM Sisa 1 unit S...</td>\n",
       "      <td>Lowokwaru</td>\n",
       "      <td>Malang</td>\n",
       "    </tr>\n",
       "    <tr>\n",
       "      <th>3</th>\n",
       "      <td>Dijual Murah Rumah Aesthetic di Lowokwaru Deka...</td>\n",
       "      <td>2                                Kamar tidur  ...</td>\n",
       "      <td>Rp589.000.000</td>\n",
       "      <td>Muhammad Sudono</td>\n",
       "      <td>Agent</td>\n",
       "      <td>Akses mobil bisa simpangan .Bisa KPR .Row jala...</td>\n",
       "      <td>Lowokwaru</td>\n",
       "      <td>Malang</td>\n",
       "    </tr>\n",
       "    <tr>\n",
       "      <th>4</th>\n",
       "      <td>Dijual Rumah Butuh uang segera  luas 231m di p...</td>\n",
       "      <td>3                                Kamar tidur  ...</td>\n",
       "      <td>Rp650.000.000</td>\n",
       "      <td>Fran Jual Rumah Malang</td>\n",
       "      <td>Rekan Lamudi Pro</td>\n",
       "      <td>Dijual Rumah luas 231m butuh uang segera lokas...</td>\n",
       "      <td>Blimbing</td>\n",
       "      <td>Malang</td>\n",
       "    </tr>\n",
       "  </tbody>\n",
       "</table>\n",
       "</div>"
      ],
      "text/plain": [
       "                                               title  \\\n",
       "0        Rumah mewah termurah dekat kampus brawijaya   \n",
       "1     Di jual Rumah Kost Exclusive Kota Malang Suhat   \n",
       "2  di jual rumah kost Exclusive kota malang Suhat...   \n",
       "3  Dijual Murah Rumah Aesthetic di Lowokwaru Deka...   \n",
       "4  Dijual Rumah Butuh uang segera  luas 231m di p...   \n",
       "\n",
       "                                              detail            price  \\\n",
       "0  3                                Kamar tidur  ...    Rp662.000.000   \n",
       "1  10                                Kamar tidur ...  Rp2.500.000.000   \n",
       "2  10                                Kamar tidur ...  Rp2.900.000.000   \n",
       "3  2                                Kamar tidur  ...    Rp589.000.000   \n",
       "4  3                                Kamar tidur  ...    Rp650.000.000   \n",
       "\n",
       "               agent_name      agent_status  \\\n",
       "0      Endang AJ Property  Rekan Lamudi Pro   \n",
       "1       Arif Faisol Halim      Rekan Lamudi   \n",
       "2       Arif Faisol Halim      Rekan Lamudi   \n",
       "3         Muhammad Sudono             Agent   \n",
       "4  Fran Jual Rumah Malang  Rekan Lamudi Pro   \n",
       "\n",
       "                                         description  kabupaten     kota  \n",
       "0  MODERN RUMAH READY UNIT 2 LANTAI mulai 600juta...     Dinoyo   Malang  \n",
       "1  Di Jual Rumah kost Exclusive SHM Redy Redy 2 U...  Tulusrejo   Malang  \n",
       "2  Di Jual Rumah kost Exclusive SHM Sisa 1 unit S...  Lowokwaru   Malang  \n",
       "3  Akses mobil bisa simpangan .Bisa KPR .Row jala...  Lowokwaru   Malang  \n",
       "4  Dijual Rumah luas 231m butuh uang segera lokas...   Blimbing   Malang  "
      ]
     },
     "execution_count": 90,
     "metadata": {},
     "output_type": "execute_result"
    }
   ],
   "source": [
    "df[['kabupaten', 'kota']] = df['location'].str.split(r',', expand=True)\n",
    "df = df.drop(['location'], axis=1)\n",
    "df.head()"
   ]
  },
  {
   "cell_type": "markdown",
   "metadata": {},
   "source": [
    "### Mengubah nilai pada kolom detail"
   ]
  },
  {
   "cell_type": "code",
   "execution_count": 91,
   "metadata": {},
   "outputs": [],
   "source": [
    "def cleaning(data):\n",
    "    data = re.sub(r'[.,?]', \" \", data)\n",
    "    data = re.sub(r'[Rp|m²|Â|Lahan]', '', data)\n",
    "    data = re.sub(r'\\s+', '', data)\n",
    "    return data"
   ]
  },
  {
   "cell_type": "code",
   "execution_count": 92,
   "metadata": {},
   "outputs": [
    {
     "data": {
      "text/html": [
       "<div>\n",
       "<style scoped>\n",
       "    .dataframe tbody tr th:only-of-type {\n",
       "        vertical-align: middle;\n",
       "    }\n",
       "\n",
       "    .dataframe tbody tr th {\n",
       "        vertical-align: top;\n",
       "    }\n",
       "\n",
       "    .dataframe thead th {\n",
       "        text-align: right;\n",
       "    }\n",
       "</style>\n",
       "<table border=\"1\" class=\"dataframe\">\n",
       "  <thead>\n",
       "    <tr style=\"text-align: right;\">\n",
       "      <th></th>\n",
       "      <th>title</th>\n",
       "      <th>detail</th>\n",
       "      <th>price</th>\n",
       "      <th>agent_name</th>\n",
       "      <th>agent_status</th>\n",
       "      <th>description</th>\n",
       "      <th>kabupaten</th>\n",
       "      <th>kota</th>\n",
       "    </tr>\n",
       "  </thead>\n",
       "  <tbody>\n",
       "    <tr>\n",
       "      <th>0</th>\n",
       "      <td>Rumah mewah termurah dekat kampus brawijaya</td>\n",
       "      <td>3Krtidur60Bgu69</td>\n",
       "      <td>662000000</td>\n",
       "      <td>Endang AJ Property</td>\n",
       "      <td>Rekan Lamudi Pro</td>\n",
       "      <td>MODERN RUMAH READY UNIT 2 LANTAI mulai 600juta...</td>\n",
       "      <td>Dinoyo</td>\n",
       "      <td>Malang</td>\n",
       "    </tr>\n",
       "    <tr>\n",
       "      <th>1</th>\n",
       "      <td>Di jual Rumah Kost Exclusive Kota Malang Suhat</td>\n",
       "      <td>10Krtidur250Bgu103</td>\n",
       "      <td>2500000000</td>\n",
       "      <td>Arif Faisol Halim</td>\n",
       "      <td>Rekan Lamudi</td>\n",
       "      <td>Di Jual Rumah kost Exclusive SHM Redy Redy 2 U...</td>\n",
       "      <td>Tulusrejo</td>\n",
       "      <td>Malang</td>\n",
       "    </tr>\n",
       "    <tr>\n",
       "      <th>2</th>\n",
       "      <td>di jual rumah kost Exclusive kota malang Suhat...</td>\n",
       "      <td>10Krtidur300Bgu103</td>\n",
       "      <td>2900000000</td>\n",
       "      <td>Arif Faisol Halim</td>\n",
       "      <td>Rekan Lamudi</td>\n",
       "      <td>Di Jual Rumah kost Exclusive SHM Sisa 1 unit S...</td>\n",
       "      <td>Lowokwaru</td>\n",
       "      <td>Malang</td>\n",
       "    </tr>\n",
       "    <tr>\n",
       "      <th>3</th>\n",
       "      <td>Dijual Murah Rumah Aesthetic di Lowokwaru Deka...</td>\n",
       "      <td>2Krtidur36Bgu72</td>\n",
       "      <td>589000000</td>\n",
       "      <td>Muhammad Sudono</td>\n",
       "      <td>Agent</td>\n",
       "      <td>Akses mobil bisa simpangan .Bisa KPR .Row jala...</td>\n",
       "      <td>Lowokwaru</td>\n",
       "      <td>Malang</td>\n",
       "    </tr>\n",
       "    <tr>\n",
       "      <th>4</th>\n",
       "      <td>Dijual Rumah Butuh uang segera  luas 231m di p...</td>\n",
       "      <td>3Krtidur231Bgu231</td>\n",
       "      <td>650000000</td>\n",
       "      <td>Fran Jual Rumah Malang</td>\n",
       "      <td>Rekan Lamudi Pro</td>\n",
       "      <td>Dijual Rumah luas 231m butuh uang segera lokas...</td>\n",
       "      <td>Blimbing</td>\n",
       "      <td>Malang</td>\n",
       "    </tr>\n",
       "  </tbody>\n",
       "</table>\n",
       "</div>"
      ],
      "text/plain": [
       "                                               title              detail  \\\n",
       "0        Rumah mewah termurah dekat kampus brawijaya     3Krtidur60Bgu69   \n",
       "1     Di jual Rumah Kost Exclusive Kota Malang Suhat  10Krtidur250Bgu103   \n",
       "2  di jual rumah kost Exclusive kota malang Suhat...  10Krtidur300Bgu103   \n",
       "3  Dijual Murah Rumah Aesthetic di Lowokwaru Deka...     2Krtidur36Bgu72   \n",
       "4  Dijual Rumah Butuh uang segera  luas 231m di p...   3Krtidur231Bgu231   \n",
       "\n",
       "        price              agent_name      agent_status  \\\n",
       "0   662000000      Endang AJ Property  Rekan Lamudi Pro   \n",
       "1  2500000000       Arif Faisol Halim      Rekan Lamudi   \n",
       "2  2900000000       Arif Faisol Halim      Rekan Lamudi   \n",
       "3   589000000         Muhammad Sudono             Agent   \n",
       "4   650000000  Fran Jual Rumah Malang  Rekan Lamudi Pro   \n",
       "\n",
       "                                         description  kabupaten     kota  \n",
       "0  MODERN RUMAH READY UNIT 2 LANTAI mulai 600juta...     Dinoyo   Malang  \n",
       "1  Di Jual Rumah kost Exclusive SHM Redy Redy 2 U...  Tulusrejo   Malang  \n",
       "2  Di Jual Rumah kost Exclusive SHM Sisa 1 unit S...  Lowokwaru   Malang  \n",
       "3  Akses mobil bisa simpangan .Bisa KPR .Row jala...  Lowokwaru   Malang  \n",
       "4  Dijual Rumah luas 231m butuh uang segera lokas...   Blimbing   Malang  "
      ]
     },
     "execution_count": 92,
     "metadata": {},
     "output_type": "execute_result"
    }
   ],
   "source": [
    "df['price'] = df['price'].apply(cleaning)\n",
    "df['detail'] = df['detail'].apply(cleaning)\n",
    "df.head()"
   ]
  },
  {
   "cell_type": "markdown",
   "metadata": {},
   "source": [
    "### Memecah kolom detail menjadi kolom kamar tidur, luas bangunan, dan luas lahan"
   ]
  },
  {
   "cell_type": "code",
   "execution_count": 93,
   "metadata": {},
   "outputs": [
    {
     "data": {
      "text/html": [
       "<div>\n",
       "<style scoped>\n",
       "    .dataframe tbody tr th:only-of-type {\n",
       "        vertical-align: middle;\n",
       "    }\n",
       "\n",
       "    .dataframe tbody tr th {\n",
       "        vertical-align: top;\n",
       "    }\n",
       "\n",
       "    .dataframe thead th {\n",
       "        text-align: right;\n",
       "    }\n",
       "</style>\n",
       "<table border=\"1\" class=\"dataframe\">\n",
       "  <thead>\n",
       "    <tr style=\"text-align: right;\">\n",
       "      <th></th>\n",
       "      <th>title</th>\n",
       "      <th>price</th>\n",
       "      <th>agent_name</th>\n",
       "      <th>agent_status</th>\n",
       "      <th>description</th>\n",
       "      <th>kabupaten</th>\n",
       "      <th>kota</th>\n",
       "      <th>kamar tidur</th>\n",
       "      <th>luas bangunan</th>\n",
       "      <th>luas lahan</th>\n",
       "    </tr>\n",
       "  </thead>\n",
       "  <tbody>\n",
       "    <tr>\n",
       "      <th>0</th>\n",
       "      <td>Rumah mewah termurah dekat kampus brawijaya</td>\n",
       "      <td>662000000</td>\n",
       "      <td>Endang AJ Property</td>\n",
       "      <td>Rekan Lamudi Pro</td>\n",
       "      <td>MODERN RUMAH READY UNIT 2 LANTAI mulai 600juta...</td>\n",
       "      <td>Dinoyo</td>\n",
       "      <td>Malang</td>\n",
       "      <td>3</td>\n",
       "      <td>60</td>\n",
       "      <td>69</td>\n",
       "    </tr>\n",
       "    <tr>\n",
       "      <th>1</th>\n",
       "      <td>Di jual Rumah Kost Exclusive Kota Malang Suhat</td>\n",
       "      <td>2500000000</td>\n",
       "      <td>Arif Faisol Halim</td>\n",
       "      <td>Rekan Lamudi</td>\n",
       "      <td>Di Jual Rumah kost Exclusive SHM Redy Redy 2 U...</td>\n",
       "      <td>Tulusrejo</td>\n",
       "      <td>Malang</td>\n",
       "      <td>10</td>\n",
       "      <td>250</td>\n",
       "      <td>103</td>\n",
       "    </tr>\n",
       "    <tr>\n",
       "      <th>2</th>\n",
       "      <td>di jual rumah kost Exclusive kota malang Suhat...</td>\n",
       "      <td>2900000000</td>\n",
       "      <td>Arif Faisol Halim</td>\n",
       "      <td>Rekan Lamudi</td>\n",
       "      <td>Di Jual Rumah kost Exclusive SHM Sisa 1 unit S...</td>\n",
       "      <td>Lowokwaru</td>\n",
       "      <td>Malang</td>\n",
       "      <td>10</td>\n",
       "      <td>300</td>\n",
       "      <td>103</td>\n",
       "    </tr>\n",
       "    <tr>\n",
       "      <th>3</th>\n",
       "      <td>Dijual Murah Rumah Aesthetic di Lowokwaru Deka...</td>\n",
       "      <td>589000000</td>\n",
       "      <td>Muhammad Sudono</td>\n",
       "      <td>Agent</td>\n",
       "      <td>Akses mobil bisa simpangan .Bisa KPR .Row jala...</td>\n",
       "      <td>Lowokwaru</td>\n",
       "      <td>Malang</td>\n",
       "      <td>2</td>\n",
       "      <td>36</td>\n",
       "      <td>72</td>\n",
       "    </tr>\n",
       "    <tr>\n",
       "      <th>4</th>\n",
       "      <td>Dijual Rumah Butuh uang segera  luas 231m di p...</td>\n",
       "      <td>650000000</td>\n",
       "      <td>Fran Jual Rumah Malang</td>\n",
       "      <td>Rekan Lamudi Pro</td>\n",
       "      <td>Dijual Rumah luas 231m butuh uang segera lokas...</td>\n",
       "      <td>Blimbing</td>\n",
       "      <td>Malang</td>\n",
       "      <td>3</td>\n",
       "      <td>231</td>\n",
       "      <td>231</td>\n",
       "    </tr>\n",
       "  </tbody>\n",
       "</table>\n",
       "</div>"
      ],
      "text/plain": [
       "                                               title       price  \\\n",
       "0        Rumah mewah termurah dekat kampus brawijaya   662000000   \n",
       "1     Di jual Rumah Kost Exclusive Kota Malang Suhat  2500000000   \n",
       "2  di jual rumah kost Exclusive kota malang Suhat...  2900000000   \n",
       "3  Dijual Murah Rumah Aesthetic di Lowokwaru Deka...   589000000   \n",
       "4  Dijual Rumah Butuh uang segera  luas 231m di p...   650000000   \n",
       "\n",
       "               agent_name      agent_status  \\\n",
       "0      Endang AJ Property  Rekan Lamudi Pro   \n",
       "1       Arif Faisol Halim      Rekan Lamudi   \n",
       "2       Arif Faisol Halim      Rekan Lamudi   \n",
       "3         Muhammad Sudono             Agent   \n",
       "4  Fran Jual Rumah Malang  Rekan Lamudi Pro   \n",
       "\n",
       "                                         description  kabupaten     kota  \\\n",
       "0  MODERN RUMAH READY UNIT 2 LANTAI mulai 600juta...     Dinoyo   Malang   \n",
       "1  Di Jual Rumah kost Exclusive SHM Redy Redy 2 U...  Tulusrejo   Malang   \n",
       "2  Di Jual Rumah kost Exclusive SHM Sisa 1 unit S...  Lowokwaru   Malang   \n",
       "3  Akses mobil bisa simpangan .Bisa KPR .Row jala...  Lowokwaru   Malang   \n",
       "4  Dijual Rumah luas 231m butuh uang segera lokas...   Blimbing   Malang   \n",
       "\n",
       "  kamar tidur luas bangunan luas lahan  \n",
       "0           3            60         69  \n",
       "1          10           250        103  \n",
       "2          10           300        103  \n",
       "3           2            36         72  \n",
       "4           3           231        231  "
      ]
     },
     "execution_count": 93,
     "metadata": {},
     "output_type": "execute_result"
    }
   ],
   "source": [
    "df[['kamar tidur', 'luas bangunan', 'luas lahan']] = df['detail'].str.split(r\"Krtidur|Bgu\", expand=True)\n",
    "df = df.drop(['detail'], axis = 1)\n",
    "df.head()"
   ]
  },
  {
   "cell_type": "markdown",
   "metadata": {},
   "source": [
    "### Mengubah datatype"
   ]
  },
  {
   "cell_type": "code",
   "execution_count": null,
   "metadata": {},
   "outputs": [],
   "source": [
    "df.info()"
   ]
  },
  {
   "cell_type": "code",
   "execution_count": null,
   "metadata": {},
   "outputs": [],
   "source": [
    "try:\n",
    "    df['price'] = df['price'].astype('int64')\n",
    "except ValueError:\n",
    "    print(\"Konversi tipe data gagal.\")"
   ]
  },
  {
   "cell_type": "code",
   "execution_count": null,
   "metadata": {},
   "outputs": [],
   "source": [
    "try:\n",
    "    df['kamar tidur'] = df['kamar tidur'].astype('int64')\n",
    "except ValueError:\n",
    "    print(\"Konversi tipe data gagal.\")"
   ]
  },
  {
   "cell_type": "code",
   "execution_count": null,
   "metadata": {},
   "outputs": [],
   "source": [
    "try:\n",
    "    df['luas lahan'] = df['luas lahan'].astype('int64')\n",
    "except ValueError:\n",
    "    print(\"Konversi tipe data gagal.\")"
   ]
  },
  {
   "cell_type": "code",
   "execution_count": 96,
   "metadata": {},
   "outputs": [
    {
     "name": "stdout",
     "output_type": "stream",
     "text": [
      "Konversi nilai ke tipe data integer gagal. Terdapat nilai non-numeric dalam kolom.\n"
     ]
    }
   ],
   "source": [
    "try:\n",
    "    df['luas bangunan'] = df['luas bangunan'].astype('int64')\n",
    "except ValueError:\n",
    "    print(\"Konversi tipe data gagal.\")\n"
   ]
  },
  {
   "cell_type": "code",
   "execution_count": 97,
   "metadata": {},
   "outputs": [
    {
     "name": "stdout",
     "output_type": "stream",
     "text": [
      "Jumlah nilai non-numeric: 2\n"
     ]
    }
   ],
   "source": [
    "numeric_values = pd.to_numeric(df['luas bangunan'], errors='coerce')\n",
    "\n",
    "# Mengganti kolom 'integer_column' dengan nilai numerik\n",
    "df['luas bangunan'] = numeric_values\n",
    "\n",
    "# Menghapus baris yang mengandung nilai non-numeric\n",
    "df.dropna(subset=['luas bangunan'], inplace=True)"
   ]
  },
  {
   "cell_type": "code",
   "execution_count": 101,
   "metadata": {},
   "outputs": [
    {
     "name": "stdout",
     "output_type": "stream",
     "text": [
      "<class 'pandas.core.frame.DataFrame'>\n",
      "Index: 2956 entries, 0 to 2957\n",
      "Data columns (total 10 columns):\n",
      " #   Column         Non-Null Count  Dtype  \n",
      "---  ------         --------------  -----  \n",
      " 0   title          2956 non-null   object \n",
      " 1   price          2956 non-null   int64  \n",
      " 2   agent_name     2956 non-null   object \n",
      " 3   agent_status   2956 non-null   object \n",
      " 4   description    2956 non-null   object \n",
      " 5   kabupaten      2956 non-null   object \n",
      " 6   kota           2756 non-null   object \n",
      " 7   kamar tidur    2956 non-null   int32  \n",
      " 8   luas bangunan  2956 non-null   float64\n",
      " 9   luas lahan     2956 non-null   int32  \n",
      "dtypes: float64(1), int32(2), int64(1), object(6)\n",
      "memory usage: 230.9+ KB\n"
     ]
    }
   ],
   "source": [
    "df.info()"
   ]
  },
  {
   "cell_type": "markdown",
   "metadata": {},
   "source": [
    "#### Mencari null value"
   ]
  },
  {
   "cell_type": "code",
   "execution_count": 105,
   "metadata": {},
   "outputs": [
    {
     "data": {
      "text/plain": [
       "title              0\n",
       "price              0\n",
       "agent_name         0\n",
       "agent_status       0\n",
       "description        0\n",
       "kabupaten          0\n",
       "kota             200\n",
       "kamar tidur        0\n",
       "luas bangunan      0\n",
       "luas lahan         0\n",
       "dtype: int64"
      ]
     },
     "execution_count": 105,
     "metadata": {},
     "output_type": "execute_result"
    }
   ],
   "source": [
    "df.isnull().sum()"
   ]
  },
  {
   "cell_type": "code",
   "execution_count": 110,
   "metadata": {},
   "outputs": [
    {
     "data": {
      "text/plain": [
       "title            0\n",
       "price            0\n",
       "agent_name       0\n",
       "agent_status     0\n",
       "description      0\n",
       "kabupaten        0\n",
       "kota             0\n",
       "kamar tidur      0\n",
       "luas bangunan    0\n",
       "luas lahan       0\n",
       "dtype: int64"
      ]
     },
     "execution_count": 110,
     "metadata": {},
     "output_type": "execute_result"
    }
   ],
   "source": [
    "df['kota'] = df['kota'].fillna('Malang')\n",
    "df.isnull().sum()"
   ]
  },
  {
   "cell_type": "code",
   "execution_count": 111,
   "metadata": {},
   "outputs": [
    {
     "name": "stdout",
     "output_type": "stream",
     "text": [
      "<class 'pandas.core.frame.DataFrame'>\n",
      "Index: 2956 entries, 0 to 2957\n",
      "Data columns (total 10 columns):\n",
      " #   Column         Non-Null Count  Dtype  \n",
      "---  ------         --------------  -----  \n",
      " 0   title          2956 non-null   object \n",
      " 1   price          2956 non-null   int64  \n",
      " 2   agent_name     2956 non-null   object \n",
      " 3   agent_status   2956 non-null   object \n",
      " 4   description    2956 non-null   object \n",
      " 5   kabupaten      2956 non-null   object \n",
      " 6   kota           2956 non-null   object \n",
      " 7   kamar tidur    2956 non-null   int32  \n",
      " 8   luas bangunan  2956 non-null   float64\n",
      " 9   luas lahan     2956 non-null   int32  \n",
      "dtypes: float64(1), int32(2), int64(1), object(6)\n",
      "memory usage: 230.9+ KB\n"
     ]
    }
   ],
   "source": [
    "df.info()"
   ]
  },
  {
   "cell_type": "code",
   "execution_count": null,
   "metadata": {},
   "outputs": [],
   "source": []
  }
 ],
 "metadata": {
  "kernelspec": {
   "display_name": "dqlab",
   "language": "python",
   "name": "python3"
  },
  "language_info": {
   "codemirror_mode": {
    "name": "ipython",
    "version": 3
   },
   "file_extension": ".py",
   "mimetype": "text/x-python",
   "name": "python",
   "nbconvert_exporter": "python",
   "pygments_lexer": "ipython3",
   "version": "3.11.5"
  }
 },
 "nbformat": 4,
 "nbformat_minor": 2
}
